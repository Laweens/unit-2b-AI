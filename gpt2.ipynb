{
 "cells": [
  {
   "cell_type": "code",
   "execution_count": 2,
   "metadata": {},
   "outputs": [],
   "source": [
    "import gpt_2_simple as gpt2\n"
   ]
  },
  {
   "cell_type": "code",
   "execution_count": 3,
   "metadata": {},
   "outputs": [],
   "source": [
    "\n",
    "#gpt2.download_gpt2(model_name='124M')"
   ]
  },
  {
   "cell_type": "code",
   "execution_count": 4,
   "metadata": {},
   "outputs": [],
   "source": [
    "session = gpt2.start_tf_sess()\n"
   ]
  },
  {
   "cell_type": "code",
   "execution_count": 5,
   "metadata": {},
   "outputs": [
    {
     "name": "stderr",
     "output_type": "stream",
     "text": [
      "2023-12-14 10:01:00.911632: I tensorflow/compiler/mlir/mlir_graph_optimization_pass.cc:388] MLIR V1 optimization pass is not enabled\n"
     ]
    },
    {
     "name": "stdout",
     "output_type": "stream",
     "text": [
      "Loading checkpoint checkpoint/run1/model-5\n",
      "INFO:tensorflow:Restoring parameters from checkpoint/run1/model-5\n",
      "Loading dataset...\n"
     ]
    },
    {
     "name": "stderr",
     "output_type": "stream",
     "text": [
      "100%|██████████| 1/1 [00:00<00:00,  1.45it/s]\n"
     ]
    },
    {
     "name": "stdout",
     "output_type": "stream",
     "text": [
      "dataset has 338025 tokens\n",
      "Training...\n",
      "[6 | 18.13] loss=3.56 avg=3.56\n",
      "[7 | 37.33] loss=3.70 avg=3.63\n",
      "[8 | 54.86] loss=3.44 avg=3.57\n",
      "[9 | 72.90] loss=3.78 avg=3.62\n",
      "[10 | 90.99] loss=3.77 avg=3.65\n",
      "Saving checkpoint/run1/model-10\n"
     ]
    }
   ],
   "source": [
    "gpt2.finetune(session, \"shakespere.txt\", model_name=\"124M\", steps=5)"
   ]
  },
  {
   "cell_type": "code",
   "execution_count": 6,
   "metadata": {},
   "outputs": [
    {
     "name": "stdout",
     "output_type": "stream",
     "text": [
      "Laweens, thou shall not pass,\n",
      "If he cannot pass at all, as a coward.\n",
      "\n",
      "But if he cannot pass,\n",
      "He will be no worse than a coward.\n",
      "\n",
      "The same thing goes to the other.\n",
      "\n",
      "That is a monstrous,\n",
      "In the world, that is my point.\n",
      "\n",
      "For it is my point; and it is my will.\n",
      "Bear in mind.\n",
      "\n",
      "She cannot pass,\n",
      "She cannot pass at all,\n",
      "And she cannot pass at all.\n",
      "She cannot pass,\n",
      "She cannot pass at all\n",
      "And she cannot pass at all.\n",
      "And if she cannot pass,\n",
      "She will not pass,\n",
      "And she will not pass at all.\n",
      "Bear in mind.\n",
      "Yes, and I'll do it,\n",
      "And I'll do it in a hundred of a thousand.\n",
      "She cannot pass,\n",
      "She cannot pass at all,\n",
      "And she will not pass at all.\n",
      "She cannot pass,\n",
      "She cannot pass at all\n",
      "And she will not pass at all.\n",
      "\n",
      "I have no desire to describe the merits of the Buddha, nor to show how he is not a coward.\n",
      "\n",
      "But I must say, that I had better give him a name than I do:\n",
      "Tidhikā is the name that we have bestowed upon him.\n",
      "\n",
      "Tidhikā is the name that we have given him a name;\n",
      "And if he did give him a name, he would have been a coward,\n",
      "And I would have made him a coward.\n",
      "\n",
      "Tidhikā is the name that we have bestowed upon him.\n",
      "That is the name that we have bestowed upon him.\n",
      "Tidhikā is the name that we have given him a name;\n",
      "And if he did give him a name, he would have been a coward.\n",
      "Tidhikā is the name that we have given him a name;\n",
      "And if he did give him a name, he would have been a coward.\n",
      "Tidhikā is the name that we have given him a name;\n",
      "And if he did give him a name, he would have been a coward.\n",
      "Tidhikā is the name that we have given him a name;\n",
      "And if he did give him a name, he would have been a coward.\n",
      "Tidhikā is the name that we have given him a name;\n",
      "And if he did give him a name, he would have been a coward.\n",
      "Tidhikā is the name that we have given him a name;\n",
      "And if he did give him a name, he would have been a coward.\n",
      "Tidhikā is the name that we have given him a name;\n",
      "And if he did give him a name, he would have been a coward.\n",
      "Tidhikā is the name that we have given him a name;\n",
      "And if he did give him a name, he would have been a coward.\n",
      "Tidhikā is the name that we have given him a name;\n",
      "And if he did give him a name, he would have been a coward.\n",
      "Tidhikā is the name that we have given him a name;\n",
      "And if he did give him a name, he would have been a coward.\n",
      "Tidhikā is the name that we have given him a name;\n",
      "And if he did give him a name, he would have been a coward.\n",
      "Tidhikā is the name that we have given him a name;\n",
      "And if he did give him a name, he would have been a coward.\n",
      "Tidhikā is the name that we have given him a name;\n",
      "And if he did give him a name, he would have been a coward.\n",
      "Tidhikā is the name that we have given him a name;\n",
      "And if he did give him a name, he would have been a coward.\n",
      "Tidhikā is the name that we have given him a name;\n",
      "And if he did give him a name, he would have been a coward.\n",
      "Tidhikā is the name that we have given him a name;\n",
      "And if he did give him a name, he would have been a coward.\n",
      "Tidhikā is the name that we have given him a name;\n",
      "And if he did give him a name, he would have been a coward.\n",
      "Tidhikā is the name that we have given him a name;\n",
      "And if he did give him a name, he would have been a coward.\n",
      "Tidhikā is the name that we have given him a name;\n",
      "And if he did give him a name, he would have been a coward.\n",
      "Tidhikā is the name that we have given him a name;\n",
      "And if he did give him a name, he would\n"
     ]
    }
   ],
   "source": [
    "gpt2.generate(session, prefix=\"Laweens, thou shall not pass\")"
   ]
  }
 ],
 "metadata": {
  "kernelspec": {
   "display_name": "Python 3",
   "language": "python",
   "name": "python3"
  },
  "language_info": {
   "codemirror_mode": {
    "name": "ipython",
    "version": 3
   },
   "file_extension": ".py",
   "mimetype": "text/x-python",
   "name": "python",
   "nbconvert_exporter": "python",
   "pygments_lexer": "ipython3",
   "version": "3.10.9"
  },
  "orig_nbformat": 4,
  "vscode": {
   "interpreter": {
    "hash": "b0fa6594d8f4cbf19f97940f81e996739fb7646882a419484c72d19e05852a7e"
   }
  }
 },
 "nbformat": 4,
 "nbformat_minor": 2
}
